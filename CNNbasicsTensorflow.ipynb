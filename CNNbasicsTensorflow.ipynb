{
  "nbformat": 4,
  "nbformat_minor": 0,
  "metadata": {
    "colab": {
      "provenance": [],
      "toc_visible": true,
      "authorship_tag": "ABX9TyPArHPTeCWrKWqPuII8/Ius",
      "include_colab_link": true
    },
    "kernelspec": {
      "name": "python3",
      "display_name": "Python 3"
    },
    "language_info": {
      "name": "python"
    }
  },
  "cells": [
    {
      "cell_type": "markdown",
      "metadata": {
        "id": "view-in-github",
        "colab_type": "text"
      },
      "source": [
        "<a href=\"https://colab.research.google.com/github/Elnurl/DataScience/blob/main/CNNbasicsTensorflow.ipynb\" target=\"_parent\"><img src=\"https://colab.research.google.com/assets/colab-badge.svg\" alt=\"Open In Colab\"/></a>"
      ]
    },
    {
      "cell_type": "code",
      "execution_count": 3,
      "metadata": {
        "id": "Few0R13EHw-Z"
      },
      "outputs": [],
      "source": [
        "from sklearn.datasets import load_sample_images\n",
        "import tensorflow as tf\n"
      ]
    },
    {
      "cell_type": "code",
      "source": [
        "images=load_sample_images()['images']"
      ],
      "metadata": {
        "id": "kUAt3FWLH6lh"
      },
      "execution_count": 6,
      "outputs": []
    },
    {
      "cell_type": "code",
      "source": [
        "images[0].shape"
      ],
      "metadata": {
        "colab": {
          "base_uri": "https://localhost:8080/"
        },
        "id": "98DUH_blINHA",
        "outputId": "a42fd9de-c3df-441e-8fe9-48deed9c1798"
      },
      "execution_count": 7,
      "outputs": [
        {
          "output_type": "execute_result",
          "data": {
            "text/plain": [
              "(427, 640, 3)"
            ]
          },
          "metadata": {},
          "execution_count": 7
        }
      ]
    },
    {
      "cell_type": "code",
      "source": [
        "images=tf.keras.layers.CenterCrop(height=80,width=120)(images)\n"
      ],
      "metadata": {
        "id": "Qrp4tWcMIUdU"
      },
      "execution_count": 12,
      "outputs": []
    },
    {
      "cell_type": "code",
      "source": [
        "images=tf.keras.layers.Rescaling(scale=1/255)(images)"
      ],
      "metadata": {
        "id": "Vz9MoLWuIYrH"
      },
      "execution_count": 14,
      "outputs": []
    },
    {
      "cell_type": "code",
      "source": [
        "images.shape"
      ],
      "metadata": {
        "colab": {
          "base_uri": "https://localhost:8080/"
        },
        "id": "HHThGR2aI8zI",
        "outputId": "b09ce5b9-0d9b-487c-9214-05d241b1d93e"
      },
      "execution_count": 15,
      "outputs": [
        {
          "output_type": "execute_result",
          "data": {
            "text/plain": [
              "TensorShape([2, 80, 120, 3])"
            ]
          },
          "metadata": {},
          "execution_count": 15
        }
      ]
    },
    {
      "cell_type": "code",
      "source": [
        "conv=tf.keras.layers.Conv2D(filters=32,kernel_size=7)"
      ],
      "metadata": {
        "id": "AI2aVR3eJCm3"
      },
      "execution_count": 26,
      "outputs": []
    },
    {
      "cell_type": "code",
      "source": [
        "fmaps=conv(images)"
      ],
      "metadata": {
        "id": "2egOBSNxJO8K"
      },
      "execution_count": 27,
      "outputs": []
    },
    {
      "cell_type": "code",
      "source": [
        "fmaps.shape"
      ],
      "metadata": {
        "colab": {
          "base_uri": "https://localhost:8080/"
        },
        "id": "OprKr77RJYZ7",
        "outputId": "574ad9b9-78c7-44d4-835d-90270bf7fb97"
      },
      "execution_count": 28,
      "outputs": [
        {
          "output_type": "execute_result",
          "data": {
            "text/plain": [
              "TensorShape([2, 74, 114, 32])"
            ]
          },
          "metadata": {},
          "execution_count": 28
        }
      ]
    },
    {
      "cell_type": "code",
      "source": [
        "conv=tf.keras.layers.Conv2D(filters=32,kernel_size=7,\n",
        "                            padding=\"same\")"
      ],
      "metadata": {
        "id": "2RP6GbNUJe6x"
      },
      "execution_count": 29,
      "outputs": []
    },
    {
      "cell_type": "code",
      "source": [
        "fmaps=conv(images)"
      ],
      "metadata": {
        "id": "L6GpNyl2J2rr"
      },
      "execution_count": 30,
      "outputs": []
    },
    {
      "cell_type": "code",
      "source": [
        "fmaps.shape"
      ],
      "metadata": {
        "colab": {
          "base_uri": "https://localhost:8080/"
        },
        "id": "guH_A1MeJ5HH",
        "outputId": "e04131bf-2538-432b-a36d-ea64a6295001"
      },
      "execution_count": 31,
      "outputs": [
        {
          "output_type": "execute_result",
          "data": {
            "text/plain": [
              "TensorShape([2, 80, 120, 32])"
            ]
          },
          "metadata": {},
          "execution_count": 31
        }
      ]
    },
    {
      "cell_type": "code",
      "source": [
        "kernels,biases=conv.get_weights()"
      ],
      "metadata": {
        "id": "dwdW21CSJ7Mh"
      },
      "execution_count": 32,
      "outputs": []
    },
    {
      "cell_type": "code",
      "source": [
        "kernels.shape"
      ],
      "metadata": {
        "colab": {
          "base_uri": "https://localhost:8080/"
        },
        "id": "wS87QMqwKJ5p",
        "outputId": "9f8dc41a-f8fb-4858-8f0a-9c15583c91c6"
      },
      "execution_count": 33,
      "outputs": [
        {
          "output_type": "execute_result",
          "data": {
            "text/plain": [
              "(7, 7, 3, 32)"
            ]
          },
          "metadata": {},
          "execution_count": 33
        }
      ]
    },
    {
      "cell_type": "code",
      "source": [
        "biases.shape\n"
      ],
      "metadata": {
        "colab": {
          "base_uri": "https://localhost:8080/"
        },
        "id": "6NbMYV7kKMet",
        "outputId": "29fff3c1-9235-4f58-dfab-47a049679f03"
      },
      "execution_count": 34,
      "outputs": [
        {
          "output_type": "execute_result",
          "data": {
            "text/plain": [
              "(32,)"
            ]
          },
          "metadata": {},
          "execution_count": 34
        }
      ]
    },
    {
      "cell_type": "code",
      "source": [
        "maxpool=tf.keras.layers.MaxPool2D(pool_size=2)"
      ],
      "metadata": {
        "id": "p8Ku1nzzKQ3S"
      },
      "execution_count": 36,
      "outputs": []
    },
    {
      "cell_type": "code",
      "source": [
        "outpot=maxpool(images)"
      ],
      "metadata": {
        "id": "DDeW_J55Ka3W"
      },
      "execution_count": 37,
      "outputs": []
    },
    {
      "cell_type": "code",
      "source": [
        "outpot.shape"
      ],
      "metadata": {
        "colab": {
          "base_uri": "https://localhost:8080/"
        },
        "id": "cBkXel8-KlHj",
        "outputId": "eba7cf5f-3e1d-469b-888e-ceb4abd8fd3f"
      },
      "execution_count": 39,
      "outputs": [
        {
          "output_type": "execute_result",
          "data": {
            "text/plain": [
              "TensorShape([2, 40, 60, 3])"
            ]
          },
          "metadata": {},
          "execution_count": 39
        }
      ]
    },
    {
      "cell_type": "code",
      "source": [
        "global_avg_pool=tf.keras.layers.GlobalAveragePooling2D()"
      ],
      "metadata": {
        "id": "jSz56RY9Km-p"
      },
      "execution_count": 40,
      "outputs": []
    },
    {
      "cell_type": "code",
      "source": [
        "global_avg_pool(images)"
      ],
      "metadata": {
        "colab": {
          "base_uri": "https://localhost:8080/"
        },
        "id": "vj9Fn0MHLJdh",
        "outputId": "2fa8fd28-9035-4cbc-a95a-77bf9d978a9b"
      },
      "execution_count": 41,
      "outputs": [
        {
          "output_type": "execute_result",
          "data": {
            "text/plain": [
              "<tf.Tensor: shape=(2, 3), dtype=float32, numpy=\n",
              "array([[0.6368122 , 0.595365  , 0.5791015 ],\n",
              "       [0.76797295, 0.26938868, 0.11366344]], dtype=float32)>"
            ]
          },
          "metadata": {},
          "execution_count": 41
        }
      ]
    },
    {
      "cell_type": "code",
      "source": [],
      "metadata": {
        "id": "4OeOW_1RLL8I"
      },
      "execution_count": null,
      "outputs": []
    }
  ]
}